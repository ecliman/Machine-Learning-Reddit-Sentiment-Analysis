{
 "cells": [
  {
   "cell_type": "code",
   "execution_count": 1,
   "metadata": {},
   "outputs": [
    {
     "data": {
      "text/html": [
       "<div>\n",
       "<style scoped>\n",
       "    .dataframe tbody tr th:only-of-type {\n",
       "        vertical-align: middle;\n",
       "    }\n",
       "\n",
       "    .dataframe tbody tr th {\n",
       "        vertical-align: top;\n",
       "    }\n",
       "\n",
       "    .dataframe thead th {\n",
       "        text-align: right;\n",
       "    }\n",
       "</style>\n",
       "<table border=\"1\" class=\"dataframe\">\n",
       "  <thead>\n",
       "    <tr style=\"text-align: right;\">\n",
       "      <th></th>\n",
       "      <th>comments</th>\n",
       "      <th>subreddits</th>\n",
       "    </tr>\n",
       "  </thead>\n",
       "  <tbody>\n",
       "    <tr>\n",
       "      <th>0</th>\n",
       "      <td>Gotta get through Na'Vi first. People sleeping...</td>\n",
       "      <td>GlobalOffensive</td>\n",
       "    </tr>\n",
       "    <tr>\n",
       "      <th>1</th>\n",
       "      <td>You get upset if you don't get attention from ...</td>\n",
       "      <td>funny</td>\n",
       "    </tr>\n",
       "    <tr>\n",
       "      <th>2</th>\n",
       "      <td>You needed not to improvise: http://imgur.com/...</td>\n",
       "      <td>funny</td>\n",
       "    </tr>\n",
       "    <tr>\n",
       "      <th>3</th>\n",
       "      <td>&amp;gt; covered in jam\\n\\nLibyan organic home mad...</td>\n",
       "      <td>europe</td>\n",
       "    </tr>\n",
       "    <tr>\n",
       "      <th>4</th>\n",
       "      <td>But surely the new ads on jerseys will decreas...</td>\n",
       "      <td>nba</td>\n",
       "    </tr>\n",
       "  </tbody>\n",
       "</table>\n",
       "</div>"
      ],
      "text/plain": [
       "                                            comments       subreddits\n",
       "0  Gotta get through Na'Vi first. People sleeping...  GlobalOffensive\n",
       "1  You get upset if you don't get attention from ...            funny\n",
       "2  You needed not to improvise: http://imgur.com/...            funny\n",
       "3  &gt; covered in jam\\n\\nLibyan organic home mad...           europe\n",
       "4  But surely the new ads on jerseys will decreas...              nba"
      ]
     },
     "execution_count": 1,
     "metadata": {},
     "output_type": "execute_result"
    }
   ],
   "source": [
    "import pandas as pd\n",
    "import matplotlib.pyplot as plt \n",
    "import seaborn as sb\n",
    "import numpy\n",
    "\n",
    "\n",
    "Data = pd.read_csv(\"reddit_train.csv\",sep=\",\",usecols=[1,2])\n",
    "Data = Data.sample(frac=1).reset_index(drop=True)\n",
    "\n",
    "Test = pd.read_csv(\"reddit_test.csv\",sep=\",\")\n",
    "Test = Test.sample(frac=1).reset_index(drop=True)\n",
    "\n",
    "\n",
    "\n",
    "\n",
    "\n",
    "Data.head(5)"
   ]
  },
  {
   "cell_type": "code",
   "execution_count": 2,
   "metadata": {},
   "outputs": [
    {
     "data": {
      "text/plain": [
       "(70000, 2)"
      ]
     },
     "execution_count": 2,
     "metadata": {},
     "output_type": "execute_result"
    }
   ],
   "source": [
    "Data.shape"
   ]
  },
  {
   "cell_type": "code",
   "execution_count": 3,
   "metadata": {},
   "outputs": [
    {
     "data": {
      "text/plain": [
       "<matplotlib.axes._subplots.AxesSubplot at 0x1a7163ec2b0>"
      ]
     },
     "execution_count": 3,
     "metadata": {},
     "output_type": "execute_result"
    },
    {
     "data": {
      "image/png": "[encoded data removed]",
      "text/plain": [
       "<Figure size 1440x432 with 1 Axes>"
      ]
     },
     "metadata": {
      "needs_background": "light"
     },
     "output_type": "display_data"
    }
   ],
   "source": [
    "dims = (20, 6)\n",
    "fig= plt.subplots(figsize=dims)\n",
    "sb.countplot(x= 'subreddits' ,data=Data)"
   ]
  },
  {
   "cell_type": "code",
   "execution_count": 4,
   "metadata": {
    "scrolled": true
   },
   "outputs": [
    {
     "name": "stdout",
     "output_type": "stream",
     "text": [
      "{'are', 'my', 'such', 'didn', 'did', 'mustn', 'and', \"weren't\", 'a', 'has', 'had', 'same', \"haven't\", 'who', 'for', \"you're\", 'what', 'm', 'now', 're', 'hers', \"isn't\", 'in', 'once', 'she', 'only', 'by', 'why', 'each', 'against', 'themselves', 'than', 'during', 'himself', 'doesn', 'wasn', 'further', 'his', 'other', 's', 'or', 'me', 'below', 'herself', \"mustn't\", 'am', 'ma', 'were', 'up', 'do', \"it's\", 'whom', \"don't\", 'shouldn', \"shouldn't\", 'where', 'which', \"won't\", 'both', 'doing', 'those', 'yourselves', 'd', 'into', 'when', 've', 'been', 'under', 'over', \"needn't\", 'here', 'just', 'he', 'an', 'there', 'them', 'with', 'hadn', \"that'll\", 'don', 'myself', 'until', 'to', 'needn', \"should've\", 'user', \"couldn't\", 'should', 'your', 'this', 'won', 'too', 'couldn', 'yourself', 'o', 'shan', 'haven', \"you'll\", 'isn', 'as', 'we', 'their', 'these', \"shan't\", 'ours', 'its', 'y', 'being', 'of', 'theirs', 'having', 'while', 'all', 'is', \"you'd\", \"hadn't\", \"wasn't\", \"you've\", 'above', 'you', 'her', 'him', 'it', 'can', 'because', 'will', 'wouldn', 'how', 'our', 'out', 'before', 'so', 'again', 'from', 'ourselves', 'no', \"mightn't\", 'most', 'between', 'then', 't', 'after', 'i', 'they', 'off', 'll', 'yours', 'about', 'ain', 'hasn', 'be', 'some', 'down', 'weren', 'itself', 'was', 'the', 'on', \"wouldn't\", 'that', 'few', 'but', 'nor', 'any', \"doesn't\", 'own', \"aren't\", \"she's\", 'url', 'through', 'does', 'have', 'at', \"didn't\", \"hasn't\", 'mightn', 'not', 'aren', 'more', 'very', 'if'}\n"
     ]
    }
   ],
   "source": [
    "from nltk.corpus import stopwords\n",
    "stopWords = set(stopwords.words('english'))\n",
    "stopWords.add('url')\n",
    "stopWords.add('user')\n",
    "print(stopWords)\n"
   ]
  },
  {
   "cell_type": "code",
   "execution_count": 5,
   "metadata": {},
   "outputs": [],
   "source": [
    "from sklearn import preprocessing\n",
    "import nltk\n",
    "from nltk.stem import WordNetLemmatizer\n",
    "from nltk.corpus import wordnet\n",
    "\n",
    "lemmatizer = WordNetLemmatizer()\n",
    "\n",
    "\n",
    "def nltk_tag_to_wordnet_tag(nltk_tag):\n",
    "    if nltk_tag.startswith('J'):\n",
    "        return wordnet.ADJ\n",
    "    elif nltk_tag.startswith('V'):\n",
    "        return wordnet.VERB\n",
    "    elif nltk_tag.startswith('N'):\n",
    "        return wordnet.NOUN\n",
    "    elif nltk_tag.startswith('R'):\n",
    "        return wordnet.ADV\n",
    "    else:          \n",
    "        return None\n",
    "\n",
    "def lemmatize_sentence(sentence):\n",
    "    nltk_tagged = nltk.pos_tag(nltk.word_tokenize(sentence))  \n",
    "    wordnet_tagged = map(lambda x: (x[0], nltk_tag_to_wordnet_tag(x[1])), nltk_tagged)\n",
    "    lemmatized_sentence = []\n",
    "    for word, tag in wordnet_tagged:\n",
    "        if tag is None:\n",
    "            lemmatized_sentence.append(word)\n",
    "        else:        \n",
    "            lemmatized_sentence.append(lemmatizer.lemmatize(word, tag))\n",
    "    return \" \".join(lemmatized_sentence)\n",
    "#This lemmatization part is inspired by 'Lemmatize whole sentences with Python and nltk’s WordNetLemmatizer' see reference.\n",
    "  \n",
    "\n",
    "enc = preprocessing.LabelEncoder()\n",
    "\n",
    "enc.fit([\"nba\",\"hockey\",\"leagueoflegends\",\"soccer\",\"funny\",\"movies\",\"anime\",\"Overwatch\",\"trees\",\"GlobalOffensive\",\"nfl\",\"AskReddit\",\n",
    "         \"gameofthrones\",\"conspiracy\",\"worldnews\",\"Music\",\"wow\",\"europe\",\"canada\",\"baseball\"])\n",
    "\n",
    "\n",
    "\n",
    "Data['comments']=Data['comments'].replace(to_replace=r'((www\\.[^\\s]+)|(https?://[^\\s]+))', value='url', regex=True)\n",
    "Data['comments']=Data['comments'].replace(to_replace=r'@[^\\s]+', value='user', regex=True)\n",
    "Data['comments']=Data.apply(lambda row: lemmatize_sentence(row['comments']), axis=1)\n",
    "\n",
    "\n",
    "X_train= Data['comments']\n",
    "y_train= enc.transform(Data['subreddits'])\n",
    "X_test= Test['comments']\n",
    "\n",
    "\n",
    "\n"
   ]
  },
  {
   "cell_type": "code",
   "execution_count": 88,
   "metadata": {},
   "outputs": [],
   "source": [
    "from sklearn.feature_extraction.text import TfidfVectorizer\n",
    "vec = TfidfVectorizer(stop_words=stopWords, ngram_range=(1, 1))\n",
    " \n",
    "\n",
    "Xtrain=vec.fit_transform(X_train)\n",
    "Xtest= vec.transform(X_test)"
   ]
  },
  {
   "cell_type": "code",
   "execution_count": 89,
   "metadata": {},
   "outputs": [],
   "source": [
    "from sklearn.decomposition import TruncatedSVD\n",
    "svd = TruncatedSVD(n_components=5000,n_iter=5,random_state=0)\n",
    "XtrainSVD=svd.fit_transform(Xtrain)\n",
    "XtestSVD=svd.transform(Xtest)"
   ]
  },
  {
   "cell_type": "code",
   "execution_count": 78,
   "metadata": {},
   "outputs": [],
   "source": [
    "from sklearn.feature_extraction.text import CountVectorizer\n",
    "binaryVec = CountVectorizer(stop_words=stopWords,ngram_range=(1,1),binary=True,max_features=10000)\n",
    "XtrainBin=binaryVec.fit_transform(X_train)\n",
    "XtestBin=binaryVec.transform(X_test)"
   ]
  },
  {
   "cell_type": "code",
   "execution_count": 77,
   "metadata": {},
   "outputs": [
    {
     "data": {
      "text/plain": [
       "10000"
      ]
     },
     "execution_count": 77,
     "metadata": {},
     "output_type": "execute_result"
    }
   ],
   "source": []
  },
  {
   "cell_type": "code",
   "execution_count": null,
   "metadata": {},
   "outputs": [],
   "source": []
  }
 ],
 "metadata": {
  "kernelspec": {
   "display_name": "Python 3",
   "language": "python",
   "name": "python3"
  },
  "language_info": {
   "codemirror_mode": {
    "name": "ipython",
    "version": 3
   },
   "file_extension": ".py",
   "mimetype": "text/x-python",
   "name": "python",
   "nbconvert_exporter": "python",
   "pygments_lexer": "ipython3",
   "version": "3.7.3"
  }
 },
 "nbformat": 4,
 "nbformat_minor": 2
}
