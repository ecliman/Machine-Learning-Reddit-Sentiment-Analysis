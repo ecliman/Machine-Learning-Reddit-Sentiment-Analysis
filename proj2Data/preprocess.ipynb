{
 "cells": [
  {
   "cell_type": "code",
   "execution_count": 40,
   "metadata": {},
   "outputs": [
    {
     "data": {
      "text/html": [
       "<div>\n",
       "<style scoped>\n",
       "    .dataframe tbody tr th:only-of-type {\n",
       "        vertical-align: middle;\n",
       "    }\n",
       "\n",
       "    .dataframe tbody tr th {\n",
       "        vertical-align: top;\n",
       "    }\n",
       "\n",
       "    .dataframe thead th {\n",
       "        text-align: right;\n",
       "    }\n",
       "</style>\n",
       "<table border=\"1\" class=\"dataframe\">\n",
       "  <thead>\n",
       "    <tr style=\"text-align: right;\">\n",
       "      <th></th>\n",
       "      <th>comments</th>\n",
       "      <th>subreddits</th>\n",
       "    </tr>\n",
       "  </thead>\n",
       "  <tbody>\n",
       "    <tr>\n",
       "      <th>0</th>\n",
       "      <td>Not sure if that is a smart move. As americas ...</td>\n",
       "      <td>conspiracy</td>\n",
       "    </tr>\n",
       "    <tr>\n",
       "      <th>1</th>\n",
       "      <td>ISIS fighters are not so tough when it comes t...</td>\n",
       "      <td>worldnews</td>\n",
       "    </tr>\n",
       "    <tr>\n",
       "      <th>2</th>\n",
       "      <td>You can smoke heaven from long as well, so a f...</td>\n",
       "      <td>GlobalOffensive</td>\n",
       "    </tr>\n",
       "    <tr>\n",
       "      <th>3</th>\n",
       "      <td>If I remember correctly, you are automatically...</td>\n",
       "      <td>wow</td>\n",
       "    </tr>\n",
       "    <tr>\n",
       "      <th>4</th>\n",
       "      <td>only time i use speed mods is to learn a \"slow...</td>\n",
       "      <td>movies</td>\n",
       "    </tr>\n",
       "  </tbody>\n",
       "</table>\n",
       "</div>"
      ],
      "text/plain": [
       "                                            comments       subreddits\n",
       "0  Not sure if that is a smart move. As americas ...       conspiracy\n",
       "1  ISIS fighters are not so tough when it comes t...        worldnews\n",
       "2  You can smoke heaven from long as well, so a f...  GlobalOffensive\n",
       "3  If I remember correctly, you are automatically...              wow\n",
       "4  only time i use speed mods is to learn a \"slow...           movies"
      ]
     },
     "execution_count": 40,
     "metadata": {},
     "output_type": "execute_result"
    }
   ],
   "source": [
    "import pandas as pd\n",
    "import matplotlib.pyplot as plt \n",
    "import seaborn as sb\n",
    "import numpy\n",
    "\n",
    "\n",
    "Data = pd.read_csv(\"reddit_train.csv\",sep=\",\",usecols=[1,2])\n",
    "Data = Data.sample(frac=1).reset_index(drop=True)\n",
    "\n",
    "Test = pd.read_csv(\"reddit_test.csv\",sep=\",\")\n",
    "Test = Test.sample(frac=1).reset_index(drop=True)\n",
    "\n",
    "\n",
    "\n",
    "\n",
    "\n",
    "Data.head(5)"
   ]
  },
  {
   "cell_type": "code",
   "execution_count": 33,
   "metadata": {},
   "outputs": [
    {
     "data": {
      "text/plain": [
       "(70000, 2)"
      ]
     },
     "execution_count": 33,
     "metadata": {},
     "output_type": "execute_result"
    }
   ],
   "source": [
    "Data.shape"
   ]
  },
  {
   "cell_type": "code",
   "execution_count": 34,
   "metadata": {},
   "outputs": [
    {
     "data": {
      "text/plain": [
       "<matplotlib.axes._subplots.AxesSubplot at 0x176affcc518>"
      ]
     },
     "execution_count": 34,
     "metadata": {},
     "output_type": "execute_result"
    },
    {
     "data": {
      "image/png": "[encoded data removed]",
      "text/plain": [
       "<Figure size 1440x432 with 1 Axes>"
      ]
     },
     "metadata": {
      "needs_background": "light"
     },
     "output_type": "display_data"
    }
   ],
   "source": [
    "dims = (20, 6)\n",
    "fig= plt.subplots(figsize=dims)\n",
    "sb.countplot(x= 'subreddits' ,data=Data)"
   ]
  },
  {
   "cell_type": "code",
   "execution_count": 35,
   "metadata": {
    "scrolled": true
   },
   "outputs": [
    {
     "name": "stdout",
     "output_type": "stream",
     "text": [
      "{'to', 'hadn', 'your', 'why', 'than', 'ain', 'below', \"doesn't\", 'll', 'up', 'does', 'yourselves', \"you'd\", 'will', 'into', 'once', 'aren', 'was', 've', 'own', 'i', 'how', 'a', 'until', 'which', 'don', 'no', 'and', 'can', 'now', 'ma', \"wasn't\", 'those', 'themselves', 'any', 'you', 'by', 'haven', 're', 'isn', 'them', 'through', 'himself', 'while', 'mightn', 'theirs', \"mightn't\", 'here', 'being', 'most', 'she', 'do', 'his', 'of', 'yourself', 'doing', 'very', \"aren't\", \"didn't\", 'only', 'because', 'such', \"weren't\", 'he', 'what', 'him', \"she's\", 'other', 'whom', 'too', 'needn', 'we', 'that', 'all', \"isn't\", 'more', 'this', 'further', 'if', 'hasn', 'wouldn', 'm', 'd', \"you'll\", 'not', 'been', 'weren', 'both', 'myself', \"don't\", \"you're\", 'AT_USER', \"hadn't\", 'o', 'herself', 'my', 'between', 'their', 'be', 'just', 'ours', 'hers', 'am', 'where', 'me', 'or', 'then', \"shan't\", \"shouldn't\", \"wouldn't\", 'each', 'against', 'itself', 'doesn', 'won', 't', \"it's\", 'URL', 'has', 'some', 'so', \"couldn't\", 'about', \"needn't\", 'are', 'it', 'should', 'after', 'at', 'who', 'is', \"won't\", 'before', 'having', 'off', 'have', 'from', 'under', 'ourselves', 'they', \"should've\", 'with', \"you've\", 'there', 'these', 'out', 'its', 'same', \"haven't\", 'over', 'mustn', 'the', 'but', 'couldn', 'were', 'shouldn', 's', \"mustn't\", 'nor', 'had', 'our', 'y', 'again', 'above', 'didn', 'yours', 'did', 'few', 'during', \"hasn't\", 'wasn', 'on', 'down', 'in', 'for', 'her', 'as', 'when', 'an', 'shan', \"that'll\"}\n"
     ]
    }
   ],
   "source": [
    "from nltk.corpus import stopwords\n",
    "stopWords = set(stopwords.words('english'))\n",
    "stopWords.add('URL')\n",
    "stopWords.add('AT_USER')\n",
    "print(stopWords)\n"
   ]
  },
  {
   "cell_type": "code",
   "execution_count": 42,
   "metadata": {},
   "outputs": [],
   "source": [
    "from sklearn import preprocessing\n",
    "import nltk\n",
    "from nltk.stem import WordNetLemmatizer\n",
    "from nltk.corpus import wordnet\n",
    "\n",
    "lemmatizer = WordNetLemmatizer()\n",
    "\n",
    "\n",
    "def nltk_tag_to_wordnet_tag(nltk_tag):\n",
    "    if nltk_tag.startswith('J'):\n",
    "        return wordnet.ADJ\n",
    "    elif nltk_tag.startswith('V'):\n",
    "        return wordnet.VERB\n",
    "    elif nltk_tag.startswith('N'):\n",
    "        return wordnet.NOUN\n",
    "    elif nltk_tag.startswith('R'):\n",
    "        return wordnet.ADV\n",
    "    else:          \n",
    "        return None\n",
    "\n",
    "def lemmatize_sentence(sentence):\n",
    "    nltk_tagged = nltk.pos_tag(nltk.word_tokenize(sentence))  \n",
    "    wordnet_tagged = map(lambda x: (x[0], nltk_tag_to_wordnet_tag(x[1])), nltk_tagged)\n",
    "    lemmatized_sentence = []\n",
    "    for word, tag in wordnet_tagged:\n",
    "        if tag is None:\n",
    "            lemmatized_sentence.append(word)\n",
    "        else:        \n",
    "            lemmatized_sentence.append(lemmatizer.lemmatize(word, tag))\n",
    "    return \" \".join(lemmatized_sentence)\n",
    "#This lemmatization part is inspired by 'Lemmatize whole sentences with Python and nltk’s WordNetLemmatizer' see reference.\n",
    "  \n",
    "\n",
    "enc = preprocessing.LabelEncoder()\n",
    "\n",
    "enc.fit([\"nba\",\"hockey\",\"leagueoflegends\",\"soccer\",\"funny\",\"movies\",\"anime\",\"Overwatch\",\"trees\",\"GlobalOffensive\",\"nfl\",\"AskReddit\",\n",
    "         \"gameofthrones\",\"conspiracy\",\"worldnews\",\"Music\",\"wow\",\"europe\",\"canada\",\"baseball\"])\n",
    "\n",
    "\n",
    "\n",
    "Data['comments']=Data['comments'].replace(to_replace=r'((www\\.[^\\s]+)|(https?://[^\\s]+))', value='URL', regex=True)\n",
    "Data['comments']=Data['comments'].replace(to_replace=r'@[^\\s]+', value='AT_USER', regex=True)\n",
    "Data['comments']=Data.apply(lambda row: lemmatize_sentence(row['comments']), axis=1)\n",
    "\n",
    "\n",
    "X_train= Data['comments']\n",
    "y_train= enc.transform(Data['subreddits'])\n",
    "X_test= Test['comments']\n",
    "\n",
    "\n",
    "\n"
   ]
  },
  {
   "cell_type": "code",
   "execution_count": 44,
   "metadata": {},
   "outputs": [],
   "source": [
    "from sklearn.feature_extraction.text import TfidfVectorizer\n",
    "vec = TfidfVectorizer(stop_words=stopWords, ngram_range=(1, 3))\n",
    " \n",
    "\n",
    "Xtrain=vec.fit_transform(X_train)\n",
    "Xtest= vec.transform(X_test)"
   ]
  },
  {
   "cell_type": "code",
   "execution_count": 243,
   "metadata": {},
   "outputs": [],
   "source": [
    "from sklearn.decomposition import TruncatedSVD\n",
    "svd = TruncatedSVD(n_components=100)\n",
    "XtrainSVD=svd.fit_transform(Xtrain)\n",
    "XtestSVD=svd.transform(Xtest)"
   ]
  },
  {
   "cell_type": "code",
   "execution_count": 45,
   "metadata": {},
   "outputs": [
    {
     "data": {
      "text/plain": [
       "<70000x2228310 sparse matrix of type '<class 'numpy.float64'>'\n",
       "\twith 4117636 stored elements in Compressed Sparse Row format>"
      ]
     },
     "execution_count": 45,
     "metadata": {},
     "output_type": "execute_result"
    }
   ],
   "source": [
    "Xtrain"
   ]
  },
  {
   "cell_type": "code",
   "execution_count": null,
   "metadata": {},
   "outputs": [],
   "source": []
  }
 ],
 "metadata": {
  "kernelspec": {
   "display_name": "Python 3",
   "language": "python",
   "name": "python3"
  },
  "language_info": {
   "codemirror_mode": {
    "name": "ipython",
    "version": 3
   },
   "file_extension": ".py",
   "mimetype": "text/x-python",
   "name": "python",
   "nbconvert_exporter": "python",
   "pygments_lexer": "ipython3",
   "version": "3.7.3"
  }
 },
 "nbformat": 4,
 "nbformat_minor": 2
}
