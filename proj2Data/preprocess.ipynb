{
 "cells": [
  {
   "cell_type": "code",
   "execution_count": 238,
   "metadata": {},
   "outputs": [
    {
     "data": {
      "text/html": [
       "<div>\n",
       "<style scoped>\n",
       "    .dataframe tbody tr th:only-of-type {\n",
       "        vertical-align: middle;\n",
       "    }\n",
       "\n",
       "    .dataframe tbody tr th {\n",
       "        vertical-align: top;\n",
       "    }\n",
       "\n",
       "    .dataframe thead th {\n",
       "        text-align: right;\n",
       "    }\n",
       "</style>\n",
       "<table border=\"1\" class=\"dataframe\">\n",
       "  <thead>\n",
       "    <tr style=\"text-align: right;\">\n",
       "      <th></th>\n",
       "      <th>comments</th>\n",
       "      <th>subreddits</th>\n",
       "    </tr>\n",
       "  </thead>\n",
       "  <tbody>\n",
       "    <tr>\n",
       "      <th>0</th>\n",
       "      <td>&amp;gt; Money is money. Eventually you run out of...</td>\n",
       "      <td>conspiracy</td>\n",
       "    </tr>\n",
       "    <tr>\n",
       "      <th>1</th>\n",
       "      <td>IMT got trashed by P1 pre-rift rivals, no way ...</td>\n",
       "      <td>leagueoflegends</td>\n",
       "    </tr>\n",
       "    <tr>\n",
       "      <th>2</th>\n",
       "      <td>You mean a car he bought from police auction t...</td>\n",
       "      <td>nfl</td>\n",
       "    </tr>\n",
       "    <tr>\n",
       "      <th>3</th>\n",
       "      <td>1. I really recommend that you either watch a ...</td>\n",
       "      <td>gameofthrones</td>\n",
       "    </tr>\n",
       "    <tr>\n",
       "      <th>4</th>\n",
       "      <td>Some science fiction is really good at closing...</td>\n",
       "      <td>funny</td>\n",
       "    </tr>\n",
       "  </tbody>\n",
       "</table>\n",
       "</div>"
      ],
      "text/plain": [
       "                                            comments       subreddits\n",
       "0  &gt; Money is money. Eventually you run out of...       conspiracy\n",
       "1  IMT got trashed by P1 pre-rift rivals, no way ...  leagueoflegends\n",
       "2  You mean a car he bought from police auction t...              nfl\n",
       "3  1. I really recommend that you either watch a ...    gameofthrones\n",
       "4  Some science fiction is really good at closing...            funny"
      ]
     },
     "execution_count": 238,
     "metadata": {},
     "output_type": "execute_result"
    }
   ],
   "source": [
    "import pandas as pd\n",
    "import matplotlib.pyplot as plt \n",
    "import seaborn as sb\n",
    "import numpy\n",
    "\n",
    "\n",
    "Data = pd.read_csv(\"reddit_train.csv\",sep=\",\",usecols=[1,2])\n",
    "Data = Data.sample(frac=1).reset_index(drop=True)\n",
    "\n",
    "Test = pd.read_csv(\"reddit_test.csv\",sep=\",\")\n",
    "Test = Test.sample(frac=1).reset_index(drop=True)\n",
    "\n",
    "\n",
    "\n",
    "\n",
    "\n",
    "Data.head(5)"
   ]
  },
  {
   "cell_type": "code",
   "execution_count": 203,
   "metadata": {},
   "outputs": [
    {
     "data": {
      "text/plain": [
       "(70000, 2)"
      ]
     },
     "execution_count": 203,
     "metadata": {},
     "output_type": "execute_result"
    }
   ],
   "source": [
    "Data.shape"
   ]
  },
  {
   "cell_type": "code",
   "execution_count": 204,
   "metadata": {},
   "outputs": [
    {
     "data": {
      "text/plain": [
       "<matplotlib.axes._subplots.AxesSubplot at 0x1f88afa2b70>"
      ]
     },
     "execution_count": 204,
     "metadata": {},
     "output_type": "execute_result"
    },
    {
     "data": {
      "image/png": "[encoded data removed]",
      "text/plain": [
       "<Figure size 1440x432 with 1 Axes>"
      ]
     },
     "metadata": {
      "needs_background": "light"
     },
     "output_type": "display_data"
    }
   ],
   "source": [
    "dims = (20, 6)\n",
    "fig= plt.subplots(figsize=dims)\n",
    "sb.countplot(x= 'subreddits' ,data=Data)"
   ]
  },
  {
   "cell_type": "code",
   "execution_count": 218,
   "metadata": {
    "scrolled": true
   },
   "outputs": [
    {
     "name": "stdout",
     "output_type": "stream",
     "text": [
      "{'isn', 'hasn', \"don't\", 'which', 'through', \"aren't\", 'himself', 'until', 'its', 'will', 'then', 'other', 'mightn', 'am', 'so', 'haven', 'how', \"shouldn't\", \"needn't\", 'themselves', \"haven't\", 'and', 'myself', \"you'll\", 'only', 'own', 'nor', 'i', 'll', 'if', \"won't\", 'd', 'URL', 'who', 'against', 'were', 're', 've', 'under', 'off', 'our', 'with', \"you'd\", 'what', 'few', 'couldn', 'AT_USER', 'further', 'is', 'their', 'we', 'do', 'yours', \"isn't\", 'does', 'herself', 'why', 'for', 'both', 'wouldn', \"didn't\", 'are', \"should've\", 'y', 'because', \"hasn't\", 'not', 'shouldn', 'being', 'he', 'very', 'doing', 'an', 'o', 'needn', 'was', 'you', 'just', 'whom', 'about', 'again', 'ma', 'same', \"you've\", 'don', 'of', 'be', 'itself', 'hadn', 'any', 'or', 'from', 'ain', 'once', 'her', \"that'll\", 'yourself', 'a', 'it', \"weren't\", \"mustn't\", 'his', 'after', 'yourselves', 'before', 'these', \"shan't\", 'those', 'but', 'theirs', 'this', 'while', 'most', 'me', \"it's\", 'him', 'have', 'ours', \"she's\", \"mightn't\", 'here', 'when', 'my', 'that', 'had', 'she', 'the', 'on', 'weren', 'by', 'such', 't', 'now', 'above', 'did', \"you're\", \"hadn't\", 's', 'should', 'up', 'ourselves', 'between', 'can', 'm', 'all', 'mustn', 'at', 'too', 'doesn', 'as', 'your', 'them', 'they', 'more', 'been', 'shan', \"doesn't\", 'aren', 'in', 'below', 'has', 'didn', 'than', \"wouldn't\", 'having', 'where', 'some', 'wasn', 'hers', 'won', 'to', 'there', 'each', 'over', 'no', \"wasn't\", \"couldn't\", 'into', 'during', 'down', 'out'}\n"
     ]
    }
   ],
   "source": [
    "from nltk.corpus import stopwords\n",
    "stopWords = set(stopwords.words('english'))\n",
    "stopWords.add('URL')\n",
    "stopWords.add('AT_USER')\n",
    "print(stopWords)"
   ]
  },
  {
   "cell_type": "code",
   "execution_count": 240,
   "metadata": {},
   "outputs": [],
   "source": [
    "from sklearn import preprocessing\n",
    "enc = preprocessing.LabelEncoder()\n",
    "\n",
    "enc.fit([\"nba\",\"hockey\",\"leagueoflegends\",\"soccer\",\"funny\",\"movies\",\"anime\",\"Overwatch\",\"trees\",\"GlobalOffensive\",\"nfl\",\"AskReddit\",\n",
    "         \"gameofthrones\",\"conspiracy\",\"worldnews\",\"Music\",\"wow\",\"europe\",\"canada\",\"baseball\"])\n",
    "\n",
    "\n",
    "\n",
    "Data['comments']=Data['comments'].replace(to_replace=r'((www\\.[^\\s]+)|(https?://[^\\s]+))', value='URL', regex=True)\n",
    "Data['comments']=Data['comments'].replace(to_replace=r'@[^\\s]+', value='AT_USER', regex=True)\n",
    "Data['comments'].apply(word_tokenize)\n",
    "\n",
    "\n",
    "X_train= Data['comments']\n",
    "y_train= enc.transform(Data['subreddits'])\n",
    "X_test= Test['comments']\n",
    "\n",
    "\n",
    "\n"
   ]
  },
  {
   "cell_type": "code",
   "execution_count": 241,
   "metadata": {},
   "outputs": [],
   "source": [
    "from sklearn.feature_extraction.text import TfidfVectorizer\n",
    "vec = TfidfVectorizer(stop_words=stopWords, ngram_range=(1, 3))\n",
    " \n",
    "\n",
    "Xtrain=vec.fit_transform(X_train)\n",
    "Xtest= vec.transform(X_test)"
   ]
  },
  {
   "cell_type": "code",
   "execution_count": 243,
   "metadata": {},
   "outputs": [],
   "source": [
    "from sklearn.decomposition import TruncatedSVD\n",
    "svd = TruncatedSVD(n_components=100)\n",
    "XtrainSVD=svd.fit_transform(Xtrain)\n",
    "XtestSVD=svd.transform(Xtest)"
   ]
  },
  {
   "cell_type": "code",
   "execution_count": null,
   "metadata": {},
   "outputs": [],
   "source": []
  }
 ],
 "metadata": {
  "kernelspec": {
   "display_name": "Python 3",
   "language": "python",
   "name": "python3"
  },
  "language_info": {
   "codemirror_mode": {
    "name": "ipython",
    "version": 3
   },
   "file_extension": ".py",
   "mimetype": "text/x-python",
   "name": "python",
   "nbconvert_exporter": "python",
   "pygments_lexer": "ipython3",
   "version": "3.7.3"
  }
 },
 "nbformat": 4,
 "nbformat_minor": 2
}
