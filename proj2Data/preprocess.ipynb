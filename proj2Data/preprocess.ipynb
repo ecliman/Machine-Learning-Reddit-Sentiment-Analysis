{
 "cells": [
  {
   "cell_type": "code",
   "execution_count": 1,
   "metadata": {},
   "outputs": [
    {
     "data": {
      "text/html": [
       "<div>\n",
       "<style scoped>\n",
       "    .dataframe tbody tr th:only-of-type {\n",
       "        vertical-align: middle;\n",
       "    }\n",
       "\n",
       "    .dataframe tbody tr th {\n",
       "        vertical-align: top;\n",
       "    }\n",
       "\n",
       "    .dataframe thead th {\n",
       "        text-align: right;\n",
       "    }\n",
       "</style>\n",
       "<table border=\"1\" class=\"dataframe\">\n",
       "  <thead>\n",
       "    <tr style=\"text-align: right;\">\n",
       "      <th></th>\n",
       "      <th>comments</th>\n",
       "      <th>subreddits</th>\n",
       "    </tr>\n",
       "  </thead>\n",
       "  <tbody>\n",
       "    <tr>\n",
       "      <th>0</th>\n",
       "      <td>lol? Messi is god for Argentina, not his fault...</td>\n",
       "      <td>soccer</td>\n",
       "    </tr>\n",
       "    <tr>\n",
       "      <th>1</th>\n",
       "      <td>I just played again yesterday after not playin...</td>\n",
       "      <td>Overwatch</td>\n",
       "    </tr>\n",
       "    <tr>\n",
       "      <th>2</th>\n",
       "      <td>I think the main problem is that people think ...</td>\n",
       "      <td>europe</td>\n",
       "    </tr>\n",
       "    <tr>\n",
       "      <th>3</th>\n",
       "      <td>My comment was based on the overall shit weath...</td>\n",
       "      <td>funny</td>\n",
       "    </tr>\n",
       "    <tr>\n",
       "      <th>4</th>\n",
       "      <td>give em a chance, they always fight till the e...</td>\n",
       "      <td>nfl</td>\n",
       "    </tr>\n",
       "  </tbody>\n",
       "</table>\n",
       "</div>"
      ],
      "text/plain": [
       "                                            comments subreddits\n",
       "0  lol? Messi is god for Argentina, not his fault...     soccer\n",
       "1  I just played again yesterday after not playin...  Overwatch\n",
       "2  I think the main problem is that people think ...     europe\n",
       "3  My comment was based on the overall shit weath...      funny\n",
       "4  give em a chance, they always fight till the e...        nfl"
      ]
     },
     "execution_count": 1,
     "metadata": {},
     "output_type": "execute_result"
    }
   ],
   "source": [
    "import pandas as pd\n",
    "import matplotlib.pyplot as plt \n",
    "import seaborn as sb\n",
    "import numpy\n",
    "\n",
    "\n",
    "Data = pd.read_csv(\"reddit_train.csv\",sep=\",\",usecols=[1,2])\n",
    "Data = Data.sample(frac=1).reset_index(drop=True)\n",
    "\n",
    "Test = pd.read_csv(\"reddit_test.csv\",sep=\",\")\n",
    "\n",
    "\n",
    "\n",
    "\n",
    "\n",
    "Data.head(5)"
   ]
  },
  {
   "cell_type": "code",
   "execution_count": 2,
   "metadata": {},
   "outputs": [
    {
     "data": {
      "text/plain": [
       "(70000, 2)"
      ]
     },
     "execution_count": 2,
     "metadata": {},
     "output_type": "execute_result"
    }
   ],
   "source": [
    "Data.shape"
   ]
  },
  {
   "cell_type": "code",
   "execution_count": 3,
   "metadata": {},
   "outputs": [
    {
     "data": {
      "text/plain": [
       "<matplotlib.axes._subplots.AxesSubplot at 0x19cf8d9c208>"
      ]
     },
     "execution_count": 3,
     "metadata": {},
     "output_type": "execute_result"
    },
    {
     "data": {
      "image/png": "[encoded data removed]",
      "text/plain": [
       "<Figure size 1440x432 with 1 Axes>"
      ]
     },
     "metadata": {
      "needs_background": "light"
     },
     "output_type": "display_data"
    }
   ],
   "source": [
    "dims = (20, 6)\n",
    "fig= plt.subplots(figsize=dims)\n",
    "sb.countplot(x= 'subreddits' ,data=Data)"
   ]
  },
  {
   "cell_type": "code",
   "execution_count": 4,
   "metadata": {
    "scrolled": true
   },
   "outputs": [
    {
     "name": "stdout",
     "output_type": "stream",
     "text": [
      "{'until', 'through', 'during', 'ours', 'once', 'did', 'in', 'why', \"couldn't\", 'haven', 'where', 'other', 'now', 'who', 'a', 'below', 'and', \"needn't\", 'does', 'most', 'then', 'than', \"you'd\", 'because', 's', 'or', \"shan't\", 'on', 'mustn', 'of', 't', 'her', 'those', 'when', 'for', 'she', 'should', 'hers', 'ain', 'hadn', 'aren', \"haven't\", 'am', 'before', 'each', 'itself', 'don', 'just', 'under', 'by', \"shouldn't\", 'not', 'so', 'with', 'needn', 'this', 'to', \"didn't\", 'will', 'yours', 'their', 'its', 'herself', 'whom', \"you'll\", 'these', \"you're\", 'an', \"mightn't\", 'i', 'more', 'theirs', 'can', 'myself', 'no', \"hasn't\", \"it's\", \"wasn't\", \"she's\", 'o', 'off', 'we', 'them', 'about', 'do', 'too', 're', 'down', \"wouldn't\", 'into', 'out', 'the', 'all', 'both', 'wasn', \"isn't\", 'm', 'url', 'if', 'such', \"aren't\", 'ma', 'nor', 'd', 'himself', 'has', 'after', 'while', 'same', 'doesn', 'it', 'very', 'up', 'at', 'isn', 'over', 'as', 'from', 'ourselves', \"should've\", 'that', 'couldn', 'only', 'his', 'you', 'user', 'above', \"mustn't\", 'are', 'between', 'few', 'y', 'll', 'was', 'here', 'my', 'have', 'own', \"don't\", \"doesn't\", 'him', 'had', 'there', 'me', 'been', 'is', 'won', 'yourself', 'he', 'didn', 'yourselves', 'be', 'against', \"won't\", 've', 'our', 'mightn', \"you've\", \"weren't\", \"hadn't\", 'again', 'how', 'themselves', 'being', \"that'll\", 'your', 'having', 'any', 'were', 'they', 'what', 'further', 'but', 'shouldn', 'weren', 'wouldn', 'which', 'some', 'shan', 'hasn', 'doing'}\n"
     ]
    }
   ],
   "source": [
    "from nltk.corpus import stopwords\n",
    "stopWords = set(stopwords.words('english'))\n",
    "stopWords.add('url')\n",
    "stopWords.add('user')\n",
    "print(stopWords)\n"
   ]
  },
  {
   "cell_type": "code",
   "execution_count": 5,
   "metadata": {},
   "outputs": [],
   "source": [
    "from sklearn import preprocessing\n",
    "import nltk\n",
    "from nltk.stem import WordNetLemmatizer\n",
    "from nltk.corpus import wordnet\n",
    "\n",
    "lemmatizer = WordNetLemmatizer()\n",
    "\n",
    "\n",
    "def nltk_tag_to_wordnet_tag(nltk_tag):\n",
    "    if nltk_tag.startswith('J'):\n",
    "        return wordnet.ADJ\n",
    "    elif nltk_tag.startswith('V'):\n",
    "        return wordnet.VERB\n",
    "    elif nltk_tag.startswith('N'):\n",
    "        return wordnet.NOUN\n",
    "    elif nltk_tag.startswith('R'):\n",
    "        return wordnet.ADV\n",
    "    else:          \n",
    "        return None\n",
    "\n",
    "def lemmatize_sentence(sentence):\n",
    "    nltk_tagged = nltk.pos_tag(nltk.word_tokenize(sentence))  \n",
    "    wordnet_tagged = map(lambda x: (x[0], nltk_tag_to_wordnet_tag(x[1])), nltk_tagged)\n",
    "    lemmatized_sentence = []\n",
    "    for word, tag in wordnet_tagged:\n",
    "        if tag is None:\n",
    "            lemmatized_sentence.append(word)\n",
    "        else:        \n",
    "            lemmatized_sentence.append(lemmatizer.lemmatize(word, tag))\n",
    "    return \" \".join(lemmatized_sentence)\n",
    "#This lemmatization part is inspired by 'Lemmatize whole sentences with Python and nltk’s WordNetLemmatizer' see reference.\n",
    "  \n",
    "\n",
    "enc = preprocessing.LabelEncoder()\n",
    "\n",
    "enc.fit([\"nba\",\"hockey\",\"leagueoflegends\",\"soccer\",\"funny\",\"movies\",\"anime\",\"Overwatch\",\"trees\",\"GlobalOffensive\",\"nfl\",\"AskReddit\",\n",
    "         \"gameofthrones\",\"conspiracy\",\"worldnews\",\"Music\",\"wow\",\"europe\",\"canada\",\"baseball\"])\n",
    "\n",
    "\n",
    "\n",
    "Data['comments']=Data['comments'].replace(to_replace=r'((www\\.[^\\s]+)|(https?://[^\\s]+))', value='url', regex=True)\n",
    "Data['comments']=Data['comments'].replace(to_replace=r'@[^\\s]+', value='user', regex=True)\n",
    "Data['comments']=Data.apply(lambda row: lemmatize_sentence(row['comments']), axis=1)\n",
    "\n",
    "\n",
    "X_train= Data['comments']\n",
    "y_train= enc.transform(Data['subreddits'])\n",
    "X_test= Test['comments']\n",
    "\n",
    "\n",
    "\n"
   ]
  },
  {
   "cell_type": "code",
   "execution_count": 87,
   "metadata": {},
   "outputs": [],
   "source": [
    "from sklearn.feature_extraction.text import TfidfVectorizer\n",
    "vec = TfidfVectorizer(stop_words=stopWords, ngram_range=(1, 3),max_features=300000)\n",
    " \n",
    "\n",
    "Xtrain=vec.fit_transform(X_train)\n",
    "Xtest= vec.transform(X_test)"
   ]
  },
  {
   "cell_type": "code",
   "execution_count": 7,
   "metadata": {},
   "outputs": [],
   "source": [
    "from sklearn.decomposition import TruncatedSVD\n",
    "svd = TruncatedSVD(n_components=5000,n_iter=5,random_state=0)\n",
    "XtrainSVD=svd.fit_transform(Xtrain)\n",
    "XtestSVD=svd.transform(Xtest)"
   ]
  },
  {
   "cell_type": "code",
   "execution_count": 31,
   "metadata": {},
   "outputs": [],
   "source": [
    "from sklearn.feature_extraction.text import CountVectorizer\n",
    "binaryVec = CountVectorizer(stop_words=stopWords,ngram_range=(1,2),binary=True,max_features=60000)\n",
    "XtrainBin=binaryVec.fit_transform(X_train)\n",
    "XtestBin=binaryVec.transform(X_test)"
   ]
  },
  {
   "cell_type": "code",
   "execution_count": 27,
   "metadata": {},
   "outputs": [],
   "source": [
    "Prediction = pred2\n",
    "from sklearn.utils import resample\n",
    "for i in range(10):\n",
    "    BootX,booty = resample(C,c)\n",
    "    cnb.fit(BootX,booty)\n",
    "    pred3=cnb.predict(D)\n",
    "    Prediction=numpy.c_[(Prediction,pred3)]\n",
    "    \n"
   ]
  },
  {
   "cell_type": "code",
   "execution_count": 88,
   "metadata": {},
   "outputs": [],
   "source": [
    "from sklearn.feature_selection import SelectKBest,chi2,f_classif\n",
    "selection = SelectKBest(f_classif, k=50000)\n",
    "X_train_new = selection.fit_transform(Xtrain,y_train)\n",
    "X_test_new = selection.transform(Xtest)"
   ]
  },
  {
   "cell_type": "code",
   "execution_count": 92,
   "metadata": {},
   "outputs": [
    {
     "data": {
      "text/plain": [
       "0.6170476190476191"
      ]
     },
     "execution_count": 92,
     "metadata": {},
     "output_type": "execute_result"
    }
   ],
   "source": [
    "from sklearn.model_selection import train_test_split\n",
    "from sklearn.ensemble import BaggingClassifier\n",
    "from sklearn.naive_bayes import ComplementNB\n",
    "cnb=ComplementNB()\n",
    "C, D, c, d = train_test_split(X_train_new, y_train, train_size=0.7, test_size=0.3)\n",
    "bootstrap = BaggingClassifier (n_estimators=10,base_estimator=cnb)\n",
    "bootstrap.fit(C,c)\n",
    "pred111=bootstrap.predict(D)\n",
    "metrics.accuracy_score(d, pred111)"
   ]
  },
  {
   "cell_type": "code",
   "execution_count": 93,
   "metadata": {},
   "outputs": [],
   "source": [
    "from sklearn.ensemble import BaggingClassifier\n",
    "boot = BaggingClassifier (n_estimators=200,base_estimator=cnb)\n",
    "boot.fit(X_train_new,y_train)\n",
    "matrix=boot.predict(X_test_new)\n"
   ]
  },
  {
   "cell_type": "code",
   "execution_count": 94,
   "metadata": {},
   "outputs": [],
   "source": [
    "abc = enc.inverse_transform(matrix)"
   ]
  },
  {
   "cell_type": "code",
   "execution_count": 95,
   "metadata": {},
   "outputs": [],
   "source": [
    "pd.DataFrame(abc, columns=['Category']).to_csv('ab.csv')"
   ]
  },
  {
   "cell_type": "code",
   "execution_count": 91,
   "metadata": {},
   "outputs": [
    {
     "data": {
      "text/plain": [
       "array([0.62142857, 0.62592857, 0.62042857, 0.62207143, 0.62214286])"
      ]
     },
     "execution_count": 91,
     "metadata": {},
     "output_type": "execute_result"
    }
   ],
   "source": [
    "from sklearn.model_selection import cross_val_score\n",
    "cross_val_score(estimator=cnb,X=X_train_new,y=y_train,cv=5)\n"
   ]
  },
  {
   "cell_type": "code",
   "execution_count": null,
   "metadata": {},
   "outputs": [],
   "source": []
  }
 ],
 "metadata": {
  "kernelspec": {
   "display_name": "Python 3",
   "language": "python",
   "name": "python3"
  },
  "language_info": {
   "codemirror_mode": {
    "name": "ipython",
    "version": 3
   },
   "file_extension": ".py",
   "mimetype": "text/x-python",
   "name": "python",
   "nbconvert_exporter": "python",
   "pygments_lexer": "ipython3",
   "version": "3.7.3"
  }
 },
 "nbformat": 4,
 "nbformat_minor": 2
}
