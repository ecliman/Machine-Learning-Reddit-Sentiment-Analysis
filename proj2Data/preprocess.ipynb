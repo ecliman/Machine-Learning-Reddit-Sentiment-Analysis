{
 "cells": [
  {
   "cell_type": "code",
   "execution_count": 62,
   "metadata": {},
   "outputs": [
    {
     "data": {
      "text/html": [
       "<div>\n",
       "<style scoped>\n",
       "    .dataframe tbody tr th:only-of-type {\n",
       "        vertical-align: middle;\n",
       "    }\n",
       "\n",
       "    .dataframe tbody tr th {\n",
       "        vertical-align: top;\n",
       "    }\n",
       "\n",
       "    .dataframe thead th {\n",
       "        text-align: right;\n",
       "    }\n",
       "</style>\n",
       "<table border=\"1\" class=\"dataframe\">\n",
       "  <thead>\n",
       "    <tr style=\"text-align: right;\">\n",
       "      <th></th>\n",
       "      <th>comments</th>\n",
       "      <th>subreddits</th>\n",
       "    </tr>\n",
       "  </thead>\n",
       "  <tbody>\n",
       "    <tr>\n",
       "      <th>0</th>\n",
       "      <td>Yeah, dunno. To be really german, she haz to w...</td>\n",
       "      <td>europe</td>\n",
       "    </tr>\n",
       "    <tr>\n",
       "      <th>1</th>\n",
       "      <td>Cannot confirm. Taught my gf to play a couple ...</td>\n",
       "      <td>leagueoflegends</td>\n",
       "    </tr>\n",
       "    <tr>\n",
       "      <th>2</th>\n",
       "      <td>But they will be held accountable should they ...</td>\n",
       "      <td>europe</td>\n",
       "    </tr>\n",
       "    <tr>\n",
       "      <th>3</th>\n",
       "      <td>Both parties are technically right, but Lisa w...</td>\n",
       "      <td>funny</td>\n",
       "    </tr>\n",
       "    <tr>\n",
       "      <th>4</th>\n",
       "      <td>I don't think that it's completely normal, it'...</td>\n",
       "      <td>worldnews</td>\n",
       "    </tr>\n",
       "  </tbody>\n",
       "</table>\n",
       "</div>"
      ],
      "text/plain": [
       "                                            comments       subreddits\n",
       "0  Yeah, dunno. To be really german, she haz to w...           europe\n",
       "1  Cannot confirm. Taught my gf to play a couple ...  leagueoflegends\n",
       "2  But they will be held accountable should they ...           europe\n",
       "3  Both parties are technically right, but Lisa w...            funny\n",
       "4  I don't think that it's completely normal, it'...        worldnews"
      ]
     },
     "execution_count": 62,
     "metadata": {},
     "output_type": "execute_result"
    }
   ],
   "source": [
    "import pandas as pd\n",
    "import matplotlib.pyplot as plt \n",
    "import seaborn as sb\n",
    "import numpy\n",
    "\n",
    "\n",
    "Data = pd.read_csv(\"reddit_train.csv\",sep=\",\",usecols=[1,2])\n",
    "Data = Data.sample(frac=1).reset_index(drop=True)\n",
    "\n",
    "Test = pd.read_csv(\"reddit_test.csv\",sep=\",\")\n",
    "Test = Test.sample(frac=1).reset_index(drop=True)\n",
    "\n",
    "\n",
    "\n",
    "\n",
    "\n",
    "Data.head(5)"
   ]
  },
  {
   "cell_type": "code",
   "execution_count": 3,
   "metadata": {},
   "outputs": [
    {
     "data": {
      "text/plain": [
       "(70000, 2)"
      ]
     },
     "execution_count": 3,
     "metadata": {},
     "output_type": "execute_result"
    }
   ],
   "source": [
    "Data.shape"
   ]
  },
  {
   "cell_type": "code",
   "execution_count": 14,
   "metadata": {},
   "outputs": [
    {
     "data": {
      "text/plain": [
       "<matplotlib.axes._subplots.AxesSubplot at 0x1a183acfcc0>"
      ]
     },
     "execution_count": 14,
     "metadata": {},
     "output_type": "execute_result"
    },
    {
     "data": {
      "image/png": "[encoded data removed]",
      "text/plain": [
       "<Figure size 1440x432 with 1 Axes>"
      ]
     },
     "metadata": {
      "needs_background": "light"
     },
     "output_type": "display_data"
    }
   ],
   "source": [
    "dims = (20, 6)\n",
    "fig= plt.subplots(figsize=dims)\n",
    "sb.countplot(x= 'subreddits' ,data=Data)"
   ]
  },
  {
   "cell_type": "code",
   "execution_count": 18,
   "metadata": {
    "scrolled": true
   },
   "outputs": [
    {
     "name": "stdout",
     "output_type": "stream",
     "text": [
      "{'against', 'own', 'this', 'so', 'should', 'only', 'over', \"you'd\", 'in', 'he', \"you've\", 'y', 'mustn', 'when', 'ourselves', 'than', 'there', 'below', 'some', 'while', 'down', 't', 'hasn', 'himself', 'between', \"needn't\", 'again', 'my', 'few', 'wasn', 'our', 'as', 'theirs', 'once', 'mightn', 'during', 'for', 'these', 'didn', 'to', \"shouldn't\", 'or', 'having', 'further', 'its', 'wouldn', 'him', 'no', \"you're\", 'until', 'she', 'can', 'you', \"isn't\", \"won't\", 'and', 'has', 'through', \"haven't\", 'o', 'haven', 'under', \"mustn't\", 'are', 'd', 'yours', 'be', 'where', 're', 'your', 'above', 'we', 'all', 'any', \"wouldn't\", \"shan't\", 'the', \"hasn't\", \"weren't\", 'does', \"you'll\", 'who', 'had', 'both', 'other', 'yourself', 'off', 'with', 'doesn', 'it', 'couldn', 'a', \"don't\", 'll', 'needn', 'by', 've', 'how', 'were', 'itself', 'was', 'her', \"she's\", 'why', 'do', \"hadn't\", 'shan', 'of', 's', 'from', 'now', \"doesn't\", 'they', 'same', 'his', \"that'll\", 'an', 'have', 'is', 'each', 'will', 'aren', 'what', 'such', 'just', 'herself', \"couldn't\", 'doing', 'because', 'don', 'hadn', 'ma', 'up', 'on', 'too', \"didn't\", 'i', 'm', 'very', \"aren't\", 'about', \"mightn't\", 'ain', 'that', 'being', 'more', 'if', 'won', 'yourselves', 'their', 'which', 'am', 'after', 'did', \"wasn't\", 'before', 'shouldn', 'nor', 'them', 'isn', 'here', 'ours', 'me', 'those', 'weren', 'out', \"should've\", 'into', 'myself', \"it's\", 'themselves', 'at', 'then', 'hers', 'not', 'most', 'been', 'whom', 'but'}\n"
     ]
    }
   ],
   "source": [
    "from nltk.corpus import stopwords\n",
    "stopWords = set(stopwords.words('english'))\n",
    "print(stopWords)"
   ]
  },
  {
   "cell_type": "code",
   "execution_count": 19,
   "metadata": {},
   "outputs": [],
   "source": [
    "from sklearn import preprocessing\n",
    "enc = preprocessing.LabelEncoder()\n",
    "\n",
    "enc.fit([\"nba\",\"hockey\",\"leagueoflegends\",\"soccer\",\"funny\",\"movies\",\"anime\",\"Overwatch\",\"trees\",\"GlobalOffensive\",\"nfl\",\"AskReddit\",\n",
    "         \"gameofthrones\",\"conspiracy\",\"worldnews\",\"Music\",\"wow\",\"europe\",\"canada\",\"baseball\"])\n",
    "\n",
    "\n",
    "\n",
    "\n",
    "X_train= Data.comments\n",
    "y_train= enc.transform(Data.subreddits)\n",
    "X_test= Test.comments\n",
    "\n",
    "\n"
   ]
  },
  {
   "cell_type": "code",
   "execution_count": 22,
   "metadata": {},
   "outputs": [],
   "source": [
    "from sklearn.feature_extraction.text import TfidfVectorizer\n",
    "vec = TfidfVectorizer(stop_words=stopWords, ngram_range=(1, 3))\n",
    " \n",
    "\n",
    "Xtrain=vec.fit_transform(X_train)\n",
    "Xtest= vec.transform(X_test)"
   ]
  },
  {
   "cell_type": "code",
   "execution_count": 59,
   "metadata": {},
   "outputs": [],
   "source": [
    "from sklearn.decomposition import TruncatedSVD\n",
    "svd = TruncatedSVD(n_components=100)\n",
    "XtrainSVD=svd.fit_transform(Xtrain)\n",
    "XtestSVD=svd.transform(Xtest)"
   ]
  },
  {
   "cell_type": "code",
   "execution_count": 61,
   "metadata": {},
   "outputs": [
    {
     "data": {
      "text/plain": [
       "(30000, 100)"
      ]
     },
     "execution_count": 61,
     "metadata": {},
     "output_type": "execute_result"
    }
   ],
   "source": []
  },
  {
   "cell_type": "code",
   "execution_count": null,
   "metadata": {},
   "outputs": [],
   "source": []
  },
  {
   "cell_type": "code",
   "execution_count": null,
   "metadata": {},
   "outputs": [],
   "source": []
  }
 ],
 "metadata": {
  "kernelspec": {
   "display_name": "Python 3",
   "language": "python",
   "name": "python3"
  },
  "language_info": {
   "codemirror_mode": {
    "name": "ipython",
    "version": 3
   },
   "file_extension": ".py",
   "mimetype": "text/x-python",
   "name": "python",
   "nbconvert_exporter": "python",
   "pygments_lexer": "ipython3",
   "version": "3.7.3"
  }
 },
 "nbformat": 4,
 "nbformat_minor": 2
}
