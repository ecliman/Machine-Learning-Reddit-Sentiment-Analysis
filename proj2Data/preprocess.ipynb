{
 "cells": [
  {
   "cell_type": "code",
   "execution_count": 1,
   "metadata": {},
   "outputs": [
    {
     "data": {
      "text/html": [
       "<div>\n",
       "<style scoped>\n",
       "    .dataframe tbody tr th:only-of-type {\n",
       "        vertical-align: middle;\n",
       "    }\n",
       "\n",
       "    .dataframe tbody tr th {\n",
       "        vertical-align: top;\n",
       "    }\n",
       "\n",
       "    .dataframe thead th {\n",
       "        text-align: right;\n",
       "    }\n",
       "</style>\n",
       "<table border=\"1\" class=\"dataframe\">\n",
       "  <thead>\n",
       "    <tr style=\"text-align: right;\">\n",
       "      <th></th>\n",
       "      <th>comments</th>\n",
       "      <th>subreddits</th>\n",
       "    </tr>\n",
       "  </thead>\n",
       "  <tbody>\n",
       "    <tr>\n",
       "      <th>0</th>\n",
       "      <td>Cs are losing so much with AB. He was the defe...</td>\n",
       "      <td>nba</td>\n",
       "    </tr>\n",
       "    <tr>\n",
       "      <th>1</th>\n",
       "      <td>Hmm, I'd be terrified with a lesser director, ...</td>\n",
       "      <td>movies</td>\n",
       "    </tr>\n",
       "    <tr>\n",
       "      <th>2</th>\n",
       "      <td>These things actually work really well. You ca...</td>\n",
       "      <td>trees</td>\n",
       "    </tr>\n",
       "    <tr>\n",
       "      <th>3</th>\n",
       "      <td>Governments have been compromised by oligarch ...</td>\n",
       "      <td>worldnews</td>\n",
       "    </tr>\n",
       "    <tr>\n",
       "      <th>4</th>\n",
       "      <td>I used to do Cam stuff when I lived in my fath...</td>\n",
       "      <td>AskReddit</td>\n",
       "    </tr>\n",
       "  </tbody>\n",
       "</table>\n",
       "</div>"
      ],
      "text/plain": [
       "                                            comments subreddits\n",
       "0  Cs are losing so much with AB. He was the defe...        nba\n",
       "1  Hmm, I'd be terrified with a lesser director, ...     movies\n",
       "2  These things actually work really well. You ca...      trees\n",
       "3  Governments have been compromised by oligarch ...  worldnews\n",
       "4  I used to do Cam stuff when I lived in my fath...  AskReddit"
      ]
     },
     "execution_count": 1,
     "metadata": {},
     "output_type": "execute_result"
    }
   ],
   "source": [
    "import pandas as pd\n",
    "import matplotlib.pyplot as plt \n",
    "import seaborn as sb\n",
    "import numpy\n",
    "\n",
    "\n",
    "Data = pd.read_csv(\"reddit_train.csv\",sep=\",\",usecols=[1,2])\n",
    "Data = Data.sample(frac=1).reset_index(drop=True)\n",
    "\n",
    "Test = pd.read_csv(\"reddit_test.csv\",sep=\",\")\n",
    "Test = Test.sample(frac=1).reset_index(drop=True)\n",
    "\n",
    "\n",
    "\n",
    "\n",
    "\n",
    "Data.head(5)"
   ]
  },
  {
   "cell_type": "code",
   "execution_count": 2,
   "metadata": {},
   "outputs": [
    {
     "data": {
      "text/plain": [
       "(70000, 2)"
      ]
     },
     "execution_count": 2,
     "metadata": {},
     "output_type": "execute_result"
    }
   ],
   "source": [
    "Data.shape"
   ]
  },
  {
   "cell_type": "code",
   "execution_count": 3,
   "metadata": {},
   "outputs": [
    {
     "data": {
      "text/plain": [
       "<matplotlib.axes._subplots.AxesSubplot at 0x2963e67f160>"
      ]
     },
     "execution_count": 3,
     "metadata": {},
     "output_type": "execute_result"
    },
    {
     "data": {
      "image/png": "[encoded data removed]",
      "text/plain": [
       "<Figure size 1440x432 with 1 Axes>"
      ]
     },
     "metadata": {
      "needs_background": "light"
     },
     "output_type": "display_data"
    }
   ],
   "source": [
    "dims = (20, 6)\n",
    "fig= plt.subplots(figsize=dims)\n",
    "sb.countplot(x= 'subreddits' ,data=Data)"
   ]
  },
  {
   "cell_type": "code",
   "execution_count": 7,
   "metadata": {
    "scrolled": true
   },
   "outputs": [
    {
     "name": "stdout",
     "output_type": "stream",
     "text": [
      "{'its', \"mustn't\", 'myself', 'm', \"hadn't\", 'ours', \"weren't\", 'very', 'don', 'these', 'my', 'but', 'between', 've', \"should've\", 'through', \"wasn't\", 're', 'against', 'more', 'while', 'now', 'most', 'o', \"wouldn't\", 'there', 'about', 'to', 'that', 'doing', 'will', 'above', 'any', 'yourselves', 'did', 'up', \"needn't\", 'he', 'if', 'your', 'in', 'or', 'because', 'having', \"don't\", \"mightn't\", 'd', 'shouldn', 'it', 'are', 'again', 'y', 'who', 'being', 'is', \"doesn't\", 'few', 'him', 'hers', 'their', 'me', 'what', 'was', 'themselves', 'does', 'has', 'by', 'below', 'aren', 'isn', 'with', 'you', 'here', 'both', \"isn't\", 'off', 'when', 'user', 'too', 'further', 'ain', 'nor', 'of', 'hasn', \"haven't\", 'an', 'those', 'were', 'into', \"couldn't\", 'couldn', \"won't\", 'can', 'during', 'just', 'she', \"shouldn't\", 'we', 'why', 's', 'i', \"that'll\", 'should', 'out', 'no', 'himself', \"you've\", 'they', \"you'd\", 'until', 'do', \"shan't\", 'this', 'needn', 'am', 'how', \"hasn't\", 'ourselves', 'won', 'each', 'at', 'ma', \"you're\", 'down', 'after', 'on', \"it's\", 'where', 'all', \"aren't\", 'url', 'then', 'yours', 'be', 'been', 'mustn', 'from', 'haven', 'over', 'his', 'didn', 'll', 'shan', 'once', 'such', 'mightn', 'her', 'than', 'weren', 'yourself', 'whom', 'theirs', 'had', 'a', 'the', 't', 'not', 'doesn', 'under', 'hadn', 'have', 'as', 'herself', 'which', 'same', 'our', \"she's\", 'some', 'own', 'wasn', 'before', 'other', 'so', \"you'll\", 'wouldn', 'and', \"didn't\", 'them', 'itself', 'only', 'for'}\n"
     ]
    }
   ],
   "source": [
    "from nltk.corpus import stopwords\n",
    "stopWords = set(stopwords.words('english'))\n",
    "stopWords.add('url')\n",
    "stopWords.add('user')\n",
    "print(stopWords)\n"
   ]
  },
  {
   "cell_type": "code",
   "execution_count": 8,
   "metadata": {},
   "outputs": [],
   "source": [
    "from sklearn import preprocessing\n",
    "import nltk\n",
    "from nltk.stem import WordNetLemmatizer\n",
    "from nltk.corpus import wordnet\n",
    "\n",
    "lemmatizer = WordNetLemmatizer()\n",
    "\n",
    "\n",
    "def nltk_tag_to_wordnet_tag(nltk_tag):\n",
    "    if nltk_tag.startswith('J'):\n",
    "        return wordnet.ADJ\n",
    "    elif nltk_tag.startswith('V'):\n",
    "        return wordnet.VERB\n",
    "    elif nltk_tag.startswith('N'):\n",
    "        return wordnet.NOUN\n",
    "    elif nltk_tag.startswith('R'):\n",
    "        return wordnet.ADV\n",
    "    else:          \n",
    "        return None\n",
    "\n",
    "def lemmatize_sentence(sentence):\n",
    "    nltk_tagged = nltk.pos_tag(nltk.word_tokenize(sentence))  \n",
    "    wordnet_tagged = map(lambda x: (x[0], nltk_tag_to_wordnet_tag(x[1])), nltk_tagged)\n",
    "    lemmatized_sentence = []\n",
    "    for word, tag in wordnet_tagged:\n",
    "        if tag is None:\n",
    "            lemmatized_sentence.append(word)\n",
    "        else:        \n",
    "            lemmatized_sentence.append(lemmatizer.lemmatize(word, tag))\n",
    "    return \" \".join(lemmatized_sentence)\n",
    "#This lemmatization part is inspired by 'Lemmatize whole sentences with Python and nltk’s WordNetLemmatizer' see reference.\n",
    "  \n",
    "\n",
    "enc = preprocessing.LabelEncoder()\n",
    "\n",
    "enc.fit([\"nba\",\"hockey\",\"leagueoflegends\",\"soccer\",\"funny\",\"movies\",\"anime\",\"Overwatch\",\"trees\",\"GlobalOffensive\",\"nfl\",\"AskReddit\",\n",
    "         \"gameofthrones\",\"conspiracy\",\"worldnews\",\"Music\",\"wow\",\"europe\",\"canada\",\"baseball\"])\n",
    "\n",
    "\n",
    "\n",
    "Data['comments']=Data['comments'].replace(to_replace=r'((www\\.[^\\s]+)|(https?://[^\\s]+))', value='url', regex=True)\n",
    "Data['comments']=Data['comments'].replace(to_replace=r'@[^\\s]+', value='user', regex=True)\n",
    "Data['comments']=Data.apply(lambda row: lemmatize_sentence(row['comments']), axis=1)\n",
    "\n",
    "\n",
    "X_train= Data['comments']\n",
    "y_train= enc.transform(Data['subreddits'])\n",
    "X_test= Test['comments']\n",
    "\n",
    "\n",
    "\n"
   ]
  },
  {
   "cell_type": "code",
   "execution_count": 6,
   "metadata": {},
   "outputs": [
    {
     "name": "stderr",
     "output_type": "stream",
     "text": [
      "D:\\ana\\lib\\site-packages\\sklearn\\feature_extraction\\text.py:300: UserWarning: Your stop_words may be inconsistent with your preprocessing. Tokenizing the stop words generated tokens ['at_user', 'url'] not in stop_words.\n",
      "  'stop_words.' % sorted(inconsistent))\n"
     ]
    }
   ],
   "source": [
    "from sklearn.feature_extraction.text import TfidfVectorizer\n",
    "vec = TfidfVectorizer(stop_words=stopWords, ngram_range=(1, 3))\n",
    " \n",
    "\n",
    "Xtrain=vec.fit_transform(X_train)\n",
    "Xtest= vec.transform(X_test)"
   ]
  },
  {
   "cell_type": "code",
   "execution_count": 243,
   "metadata": {},
   "outputs": [],
   "source": [
    "from sklearn.decomposition import TruncatedSVD\n",
    "svd = TruncatedSVD(n_components=100)\n",
    "XtrainSVD=svd.fit_transform(Xtrain)\n",
    "XtestSVD=svd.transform(Xtest)"
   ]
  },
  {
   "cell_type": "code",
   "execution_count": 45,
   "metadata": {},
   "outputs": [
    {
     "data": {
      "text/plain": [
       "<70000x2228310 sparse matrix of type '<class 'numpy.float64'>'\n",
       "\twith 4117636 stored elements in Compressed Sparse Row format>"
      ]
     },
     "execution_count": 45,
     "metadata": {},
     "output_type": "execute_result"
    }
   ],
   "source": [
    "from sklearn.feature_extraction.text import CountVectorizer\n",
    "binaryVec = CountVectorizer(stop_words=stopWords,ngram_range=(1,3),binary=True)\n",
    "XtrainBin=binaryVec.fit_transform(X_train)\n",
    "XtestBin=binaryVec.transform(X_test)"
   ]
  },
  {
   "cell_type": "code",
   "execution_count": null,
   "metadata": {},
   "outputs": [],
   "source": []
  }
 ],
 "metadata": {
  "kernelspec": {
   "display_name": "Python 3",
   "language": "python",
   "name": "python3"
  },
  "language_info": {
   "codemirror_mode": {
    "name": "ipython",
    "version": 3
   },
   "file_extension": ".py",
   "mimetype": "text/x-python",
   "name": "python",
   "nbconvert_exporter": "python",
   "pygments_lexer": "ipython3",
   "version": "3.7.3"
  }
 },
 "nbformat": 4,
 "nbformat_minor": 2
}
